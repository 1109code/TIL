{
 "cells": [
  {
   "cell_type": "markdown",
   "id": "8ffe5093",
   "metadata": {},
   "source": [
    "# 1. Built-in 함수와 메서드"
   ]
  },
  {
   "cell_type": "code",
   "execution_count": 15,
   "id": "74f85701",
   "metadata": {},
   "outputs": [
    {
     "name": "stdout",
     "output_type": "stream",
     "text": [
      "[2, 4, 5, 8, 13] [4, 5, 13, 2, 8]\n"
     ]
    }
   ],
   "source": [
    "numbers = [4, 5, 13, 2, 8]\n",
    "result = sorted(numbers)\n",
    "print(result, numbers"
   ]
  },
  {
   "cell_type": "markdown",
   "id": "7d9f12cc",
   "metadata": {},
   "source": [
    "# sorted(numbers)\n",
    "sorted()의 경우 위의 실행 결과와 같이 기존의 numbers에는 영향을 주지 않고\n",
    "정렬한 값을 print할 수 있다."
   ]
  },
  {
   "cell_type": "code",
   "execution_count": 17,
   "id": "ad17b350",
   "metadata": {},
   "outputs": [
    {
     "name": "stdout",
     "output_type": "stream",
     "text": [
      "None [2, 4, 5, 8, 13]\n"
     ]
    }
   ],
   "source": [
    "numbers = [4, 5, 13, 2, 8]\n",
    "result = numbers.sort()\n",
    "print(result, numbers)"
   ]
  },
  {
   "cell_type": "markdown",
   "id": "a186df1f",
   "metadata": {},
   "source": [
    "# .sort()\n",
    "반면 .sort()의 경우 위의 실행 결과와 같이 기존의 numbers 또한 정렬된 것을 확인할 수 있다."
   ]
  },
  {
   "cell_type": "markdown",
   "id": "e2f2ec47",
   "metadata": {},
   "source": [
    "# 2. .extend()와 .append()"
   ]
  },
  {
   "cell_type": "code",
   "execution_count": 23,
   "id": "fe5aeae3",
   "metadata": {},
   "outputs": [
    {
     "name": "stdout",
     "output_type": "stream",
     "text": [
      "[1, 2, 3, 4, 5, 6]\n",
      "[1, 2, 3, 4, 5, 6, 'h', 'e', 'l', 'l', 'o']\n"
     ]
    }
   ],
   "source": [
    "numbers = [1, 2, 3]\n",
    "other = [4, 5, 6]\n",
    "word = 'hello'\n",
    "\n",
    "numbers.extend(other)\n",
    "print(numbers)\n",
    "\n",
    "numbers.extend(word)\n",
    "print(numbers)"
   ]
  },
  {
   "cell_type": "markdown",
   "id": "ee5280d5",
   "metadata": {},
   "source": [
    "# .extend()\n",
    ".extend()의 경우 반복 가능한 자료가 하나씩 구분되어 기존 list에 합해지는 반면"
   ]
  },
  {
   "cell_type": "code",
   "execution_count": 25,
   "id": "f4b6d2e0",
   "metadata": {},
   "outputs": [
    {
     "name": "stdout",
     "output_type": "stream",
     "text": [
      "[1, 2, 3, [4, 5, 6]]\n",
      "[1, 2, 3, [4, 5, 6], 'hello']\n"
     ]
    }
   ],
   "source": [
    "numbers = [1, 2, 3]\n",
    "other = [4, 5, 6]\n",
    "word = 'hello'\n",
    "\n",
    "numbers.append(other)\n",
    "print(numbers)\n",
    "\n",
    "numbers.append(word)\n",
    "print(numbers)"
   ]
  },
  {
   "cell_type": "markdown",
   "id": "eb34346b",
   "metadata": {},
   "source": [
    "# .append()\n",
    ".appned()의 경우 추가할 자료가 한번에 마지막 인덱스에 붙여지는 것을 확인할 수 있다."
   ]
  },
  {
   "cell_type": "markdown",
   "id": "33df4855",
   "metadata": {},
   "source": [
    "# 3. 복사가 잘 된 건가?"
   ]
  },
  {
   "cell_type": "code",
   "execution_count": 26,
   "id": "8e7eb445",
   "metadata": {},
   "outputs": [
    {
     "name": "stdout",
     "output_type": "stream",
     "text": [
      "[1, 2, 5, 4, 5]\n",
      "[1, 2, 5, 4, 5]\n"
     ]
    }
   ],
   "source": [
    "a = [1, 2, 3, 4, 5]\n",
    "b = a\n",
    "\n",
    "a[2] = 5\n",
    "\n",
    "print(a)\n",
    "print(b)"
   ]
  },
  {
   "cell_type": "markdown",
   "id": "c6c7da5f",
   "metadata": {},
   "source": [
    "a와 b에 담김 요소가 동일하다.\n",
    "상기의 복사의 경우 b에 a를 할당 한 것이다. 같은 주소값을 갖기 때문에 a의 요소를 변경하면 b의 요소 또한 변경된다.\n",
    "\n",
    "반면 b = a[:]와 같이 얕은 복사를 시행한 경우 이중 list와 같은 경우가 아니라면 a의 요소를 변경해도 b의 요소가 변경되지 않는다. 이는 a와 b가 변수를 담을 다른 주소를 갖기 때문이다. 하지만 이중 리스트의 경우 리스트 안의 리스트의 요소들이 가리키는 주소는 동일하기 때문에 a의 이중 리스트 요소를 변경 할 경우 b의 이중 리스트 요소 또한 변경된다.\n",
    "\n",
    "반면 import copy를 통해 깊은 복사를 시행한 경우 상기된 내용과 달리 요소가 다른 주소 값을 가리켜 a 이중리스트의 변형으로도 b 이중리스트 요소가 변경되지 않는다."
   ]
  }
 ],
 "metadata": {
  "kernelspec": {
   "display_name": "Python 3 (ipykernel)",
   "language": "python",
   "name": "python3"
  },
  "language_info": {
   "codemirror_mode": {
    "name": "ipython",
    "version": 3
   },
   "file_extension": ".py",
   "mimetype": "text/x-python",
   "name": "python",
   "nbconvert_exporter": "python",
   "pygments_lexer": "ipython3",
   "version": "3.9.13"
  }
 },
 "nbformat": 4,
 "nbformat_minor": 5
}
