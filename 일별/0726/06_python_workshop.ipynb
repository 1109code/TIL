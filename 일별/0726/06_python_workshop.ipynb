{
 "cells": [
  {
   "cell_type": "markdown",
   "id": "2c557d76",
   "metadata": {},
   "source": [
    "# 1. 무엇이 중복일까"
   ]
  },
  {
   "cell_type": "code",
   "execution_count": 1,
   "id": "91734e16",
   "metadata": {},
   "outputs": [
    {
     "name": "stdout",
     "output_type": "stream",
     "text": [
      "['p']\n",
      "['a', 'n']\n"
     ]
    }
   ],
   "source": [
    "def duplicated_letters(word):\n",
    "    dup = []\n",
    "    # 모든 단어 돌면서 count 해서 목록에 추가하기\n",
    "    for letter in word:\n",
    "        if word.count(letter) > 1:\n",
    "            dup.append(letter)\n",
    "    #중복 방지를 위해 set으로 바꿨다 리스트로 만들기\n",
    "    return list(set(dup))\n",
    "\n",
    "print(duplicated_letters('apple'))\n",
    "print(duplicated_letters('banana'))"
   ]
  },
  {
   "cell_type": "markdown",
   "id": "a101ced0",
   "metadata": {},
   "source": [
    "# 2. 소대소대"
   ]
  },
  {
   "cell_type": "code",
   "execution_count": 20,
   "id": "a649e766",
   "metadata": {},
   "outputs": [
    {
     "name": "stdout",
     "output_type": "stream",
     "text": [
      "aPpLe\n",
      "bAnAnA\n"
     ]
    }
   ],
   "source": [
    "def low_and_up(word):\n",
    "    # 입력된 문자 모두 대문자로해서 리스트 만들기\n",
    "    a = list(word.upper())\n",
    "    # 한칸씩 건더 뛰며 소문자로 만들기\n",
    "    for i in range(0, len(word), 2):\n",
    "        a[i] = a[i].lower()\n",
    "    # 최종적으로 합치기\n",
    "    a = ''.join(a)\n",
    "    \n",
    "    return a\n",
    "\n",
    "print(low_and_up('apple'))\n",
    "print(low_and_up('banana'))"
   ]
  },
  {
   "cell_type": "markdown",
   "id": "d0c40539",
   "metadata": {},
   "source": [
    "# 3. 솔로 천국 만들기"
   ]
  },
  {
   "cell_type": "code",
   "execution_count": 23,
   "id": "73c83526",
   "metadata": {},
   "outputs": [
    {
     "name": "stdout",
     "output_type": "stream",
     "text": [
      "[1, 3, 0, 1]\n",
      "[4, 3]\n"
     ]
    }
   ],
   "source": [
    "def lonely(numbers):\n",
    "    # 다음번 숫자랑 같으면 -1로 변환\n",
    "    for i in range(len(numbers) - 1):\n",
    "        if numbers[i] == numbers[i + 1]:\n",
    "            numbers[i] = -1\n",
    "    # 리스트 안에 -1들 다 제거\n",
    "    for i in range(numbers.count(-1)):\n",
    "        numbers.remove(-1)\n",
    "    return numbers\n",
    "\n",
    "print(lonely([1, 1, 3, 3, 0, 1, 1]))\n",
    "print(lonely([4, 4, 4, 3, 3]))"
   ]
  },
  {
   "cell_type": "code",
   "execution_count": null,
   "id": "db9d6969",
   "metadata": {},
   "outputs": [],
   "source": []
  }
 ],
 "metadata": {
  "kernelspec": {
   "display_name": "Python 3 (ipykernel)",
   "language": "python",
   "name": "python3"
  },
  "language_info": {
   "codemirror_mode": {
    "name": "ipython",
    "version": 3
   },
   "file_extension": ".py",
   "mimetype": "text/x-python",
   "name": "python",
   "nbconvert_exporter": "python",
   "pygments_lexer": "ipython3",
   "version": "3.9.13"
  }
 },
 "nbformat": 4,
 "nbformat_minor": 5
}
